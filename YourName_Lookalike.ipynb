{
 "cells": [
  {
   "cell_type": "markdown",
   "id": "67753b8f-983e-4de3-9ed9-2529aead3f1e",
   "metadata": {},
   "source": [
    "### Step 1: Import necessary libraries"
   ]
  },
  {
   "cell_type": "code",
   "execution_count": 2,
   "id": "ec61be30-777a-4e3a-a0b2-54ed6a66c7e9",
   "metadata": {},
   "outputs": [],
   "source": [
    "import pandas as pd\n",
    "from sklearn.metrics.pairwise import cosine_similarity\n",
    "from sklearn.preprocessing import StandardScaler"
   ]
  },
  {
   "cell_type": "markdown",
   "id": "1b61b804-0c87-4581-a4db-732f9d970661",
   "metadata": {},
   "source": [
    "### Step 2: Prepare data for the model"
   ]
  },
  {
   "cell_type": "code",
   "execution_count": 4,
   "id": "941f01c9-c3d5-42d6-9562-1a363d7e3070",
   "metadata": {},
   "outputs": [],
   "source": [
    "customers = pd.read_csv(\"C:/Users/satya/Downloads/Customers (1).csv\")\n",
    "products = pd.read_csv(\"C:/Users/satya/Downloads/Products (1).csv\")\n",
    "transactions = pd.read_csv(\"C:/Users/satya/Downloads/Transactions.csv\")\n",
    "\n",
    "customer_transactions = transactions.groupby('CustomerID').agg({\n",
    "    'Quantity': 'sum', \n",
    "    'TotalValue': 'sum'\n",
    "}).reset_index()\n",
    "\n",
    "merged_customers = pd.merge(customers, customer_transactions, on='CustomerID', how='left').fillna(0)"
   ]
  },
  {
   "cell_type": "markdown",
   "id": "0b23a42b-b987-435e-83a6-3ec80b29ccb6",
   "metadata": {},
   "source": [
    "### Step 3: Normalize data"
   ]
  },
  {
   "cell_type": "code",
   "execution_count": 6,
   "id": "e6a75125-cfaa-4e35-8507-332e46752a0b",
   "metadata": {},
   "outputs": [],
   "source": [
    "scaler = StandardScaler()\n",
    "scaled_features = scaler.fit_transform(merged_customers[['Quantity', 'TotalValue']])"
   ]
  },
  {
   "cell_type": "markdown",
   "id": "d42f1e76-0547-4b2f-93d8-8b95d6ccdea1",
   "metadata": {},
   "source": [
    "### Step 4: Compute similarity matrix"
   ]
  },
  {
   "cell_type": "code",
   "execution_count": 8,
   "id": "1e35936e-a7bf-4d19-9bc9-3c673744f353",
   "metadata": {},
   "outputs": [],
   "source": [
    "similarity_matrix = cosine_similarity(scaled_features)\n",
    "similarity_df = pd.DataFrame(similarity_matrix, index=merged_customers['CustomerID'], columns=merged_customers['CustomerID'])"
   ]
  },
  {
   "cell_type": "markdown",
   "id": "c24c05b7-42e9-4424-9f56-9922b5b98efa",
   "metadata": {},
   "source": [
    "### Step 5: Find top 3 similar customers"
   ]
  },
  {
   "cell_type": "code",
   "execution_count": 10,
   "id": "17285d8b-f825-4f82-a5f9-bf21e8c90b5b",
   "metadata": {},
   "outputs": [],
   "source": [
    "lookalike_dict = {}\n",
    "for customer in merged_customers['CustomerID'][:20]:  # First 20 customers\n",
    "    similar_customers = similarity_df[customer].sort_values(ascending=False).iloc[1:4]\n",
    "    lookalike_dict[customer] = list(zip(similar_customers.index, similar_customers.values))"
   ]
  },
  {
   "cell_type": "markdown",
   "id": "0d90c836-bcfd-4f6a-9626-7378ccf9116a",
   "metadata": {},
   "source": [
    "### Save lookalikes to a CSV"
   ]
  },
  {
   "cell_type": "code",
   "execution_count": 12,
   "id": "7530feb3-16b0-4ca5-bd95-a3731dfcee1e",
   "metadata": {},
   "outputs": [
    {
     "name": "stdout",
     "output_type": "stream",
     "text": [
      "Lookalike recommendations saved to 'YourName_Lookalike.csv'\n"
     ]
    }
   ],
   "source": [
    "lookalike_df = pd.DataFrame([\n",
    "    {'CustomerID': cust, 'Lookalikes': lookalike_dict[cust]}\n",
    "    for cust in lookalike_dict\n",
    "])\n",
    "lookalike_df.to_csv('YourName_Lookalike.csv', index=False)\n",
    "\n",
    "print(\"Lookalike recommendations saved to 'YourName_Lookalike.csv'\")"
   ]
  }
 ],
 "metadata": {
  "kernelspec": {
   "display_name": "Python [conda env:base] *",
   "language": "python",
   "name": "conda-base-py"
  },
  "language_info": {
   "codemirror_mode": {
    "name": "ipython",
    "version": 3
   },
   "file_extension": ".py",
   "mimetype": "text/x-python",
   "name": "python",
   "nbconvert_exporter": "python",
   "pygments_lexer": "ipython3",
   "version": "3.12.7"
  }
 },
 "nbformat": 4,
 "nbformat_minor": 5
}
